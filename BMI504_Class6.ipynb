{
 "cells": [
  {
   "cell_type": "markdown",
   "metadata": {},
   "source": [
    "# BMI504-Spring 2018: Class 6 Statistics I\n",
    "\n",
    "## Central Limit Theorem Example\n",
    "\n",
    "### Central Limit Theorem\n",
    "\n",
    "Let $X_1, X_2, ... , X_n$ are iid random variables with (finite) mean $\\mu$ and (finite) variance $\\sigma^2$. If the sample size n is \"sufficiently large,\" then:\n",
    "\n",
    "(1) the sample mean $\\bar{X}=\\frac{\\sum_{i=1}^n}{n} X_i$ follows an approximate normal distribution\n",
    "\n",
    "(2) with mean $E(\\bar{X})=\\mu$\n",
    "\n",
    "(3) and variance $Var(\\bar{X})=\\frac{\\sigma^2}{n}$\n",
    "\n",
    "We write:\n",
    "\n",
    " $$\\bar{X}⟶N(\\mu,\\frac{\\sigma^2}{n})\\ as \\ n\\rightarrow\\infty$$\n",
    " \n",
    " ### Example\n",
    " \n",
    "Let X be the random variable associated to drawing a fair dice with out-\n",
    "comes 1,2,3,4,5,6. Suppose $X_1, · · · , X_30$ be i.i.d as X.\n",
    "\n",
    "a) Find the distribution of the random variable $\\bar{X}$ using CLT.\n",
    "Plot this distribution.\n",
    "\n",
    "b)This time do not use the CLT, instead by running a simulation in R find the mean and variance \n",
    "of $\\bar{X}. You can use the “sample” function in R to roll your dice!\n",
    "\n",
    "c) Plot the distribution found in the first and second part in the same graph.\n",
    "\n",
    " \n",
    "a) X is a discrete random variable\n",
    "\n",
    "the mean of X: $\\mu=\\sum_{i=1}^6 (i)(\\frac{1}{6})=3.5$\n",
    "\n",
    "the varaiance of X: $sigma^2=\\sum_{i=1}^6 (x_i -\\mu)^2 p_i=\\frac{1}{6}\\sum_{i=1}^6 (x_i -3.5)^2$=3.5\n",
    "\n",
    "By the central limit theorem, for large n:  $$\\bar{X}\\sim N(\\mu,\\frac{\\sigma^2}{n})=N(3.5,\\frac{3.5}{30}=0.117)$$\n",
    "\n"
   ]
  },
  {
   "cell_type": "code",
   "execution_count": null,
   "metadata": {
    "collapsed": true
   },
   "outputs": [],
   "source": [
    "x=seq(2.5,4.5,0.001)"
   ]
  },
  {
   "cell_type": "code",
   "execution_count": null,
   "metadata": {},
   "outputs": [],
   "source": [
    "plot(x,dnorm(x,mean=3.5,sd=0.34),type='l',main='The distribution of the sample mean using CLT')"
   ]
  },
  {
   "cell_type": "code",
   "execution_count": null,
   "metadata": {},
   "outputs": [],
   "source": [
    "barX=rep(0,1000)\n",
    "for (i in 1:1000){barX[i]=mean(sample(1:6,30,replace=T))}\n",
    "mean(barX)\n",
    "var(barX)\n",
    "hist(barX,freq=NULL, col=\"Green\")\n",
    "par(new=TRUE)\n",
    "plot(x,dnorm(x,mean=3.5,sd=0.34),type='l', xaxt=\"n\", yaxt=\"n\", xlab=\"\", ylab=\"\", col=\"purple\")\n"
   ]
  },
  {
   "cell_type": "markdown",
   "metadata": {},
   "source": [
    "## Making Inferences\n",
    "\n",
    "### Continuous Outcome Data\n",
    "\n",
    "Problem: Can we conclude patients with primary hypertension (PH), on average, have a higher\n",
    "total cholesterol level than normotensive (NT) patients? \n",
    "\n",
    "Data: A random sample of patients was taken. Total cholesterol measurements (mg/dl) for 133 PH patients (Group 1) and 41 NT patients (Group 2) were reported."
   ]
  },
  {
   "cell_type": "code",
   "execution_count": null,
   "metadata": {
    "collapsed": true
   },
   "outputs": [],
   "source": [
    "Example_1=read.csv(\"Class9_Dataset1.csv\", sep=\",\", header=T)\n",
    "colnames(Example_1)<-c(\"Cholesterol\", \"Group\")"
   ]
  },
  {
   "cell_type": "markdown",
   "metadata": {},
   "source": [
    "Is this about averages?\n",
    "\n",
    "Are our sample random?\n",
    "\n",
    "Is this paired or independent sample data?\n",
    "\n",
    "Does this data come from a normal or approximately normal distribution?\n",
    "\n",
    "Remember CLT! "
   ]
  },
  {
   "cell_type": "code",
   "execution_count": null,
   "metadata": {},
   "outputs": [],
   "source": [
    "#n1=133\n",
    "n1=length(Example_1[Example_1[,2]==1,][,2])\n",
    "#n2=41\n",
    "n2=length(Example_1[Example_1[,2]==2,][,2])"
   ]
  },
  {
   "cell_type": "markdown",
   "metadata": {},
   "source": [
    "Both are greater than 30, so CLT applies"
   ]
  },
  {
   "cell_type": "markdown",
   "metadata": {},
   "source": [
    "### Check Assumptions: histograms and normal probability plots"
   ]
  },
  {
   "cell_type": "code",
   "execution_count": null,
   "metadata": {},
   "outputs": [],
   "source": [
    "par(mfrow=c(2,2))\n",
    "hist(Example_1[Example_1[,2]==1,][,1], main=\"Histogram of Cholesterol for PH patients\", xlab=\"Cholesterol\")\n",
    "hist(Example_1[Example_1[,2]==2,][,1], main=\"Histogram of Cholesterol for NT patients\", xlab=\"Cholesterol\")\n",
    "qqnorm(Example_1[Example_1[,2]==1,][,1])\n",
    "qqnorm(Example_1[Example_1[,2]==2,][,1])"
   ]
  },
  {
   "cell_type": "markdown",
   "metadata": {},
   "source": [
    "### Check Assumptions: variances equal?"
   ]
  },
  {
   "cell_type": "code",
   "execution_count": null,
   "metadata": {},
   "outputs": [],
   "source": [
    "par(mfrow=c(1,1))\n",
    "boxplot(Example_1$Cholesterol~Example_1$Group)\n",
    "sqrt(var(Example_1[Example_1[,2]==1,][,1]))\n",
    "sqrt(var(Example_1[Example_1[,2]==2,][,1]))"
   ]
  },
  {
   "cell_type": "markdown",
   "metadata": {},
   "source": [
    "### State hypotheses:\n",
    "\n",
    "$H_0:\\mu_{ph}=\\mu_{nt}$\n",
    "\n",
    "$H_a: \\mu_{ph} > \\mu_{nt}$\n"
   ]
  },
  {
   "cell_type": "code",
   "execution_count": null,
   "metadata": {},
   "outputs": [],
   "source": [
    "T1=t.test(Example_1$Cholesterol~Example_1$Group, alternative=\"greater\", var.equal=T)\n",
    "T1"
   ]
  },
  {
   "cell_type": "markdown",
   "metadata": {},
   "source": [
    "Our test statistic is t=3.953 with df=172 and a p-value of .0000562.  \n",
    "\n",
    "This p-value is very small, so we reject $H_0$ and say that the true difference in the means of cholesterol between PH and NT patients is greater than 0.  \n",
    "\n",
    "OR, we could say: The true mean of PH patient's cholesterol is greater than the true mean of NT patient's cholesterol.\n",
    "\n",
    "The mean difference between PH and NT patients has a 95% confidence interval of (12.417, infinity) \n",
    "    * (remember: it is infinity because it is a one-sided test)\n",
    "\n",
    "## some other alternative hypotheses: how a p-value is calculated\n",
    "### $H_A: \\mu_{ph} < \\mu_{nt}$"
   ]
  },
  {
   "cell_type": "code",
   "execution_count": null,
   "metadata": {},
   "outputs": [],
   "source": [
    "t.test(Example_1$Cholesterol~Example_1$Group, alternative=\"less\", var.equal=T)\n",
    "##note: \n",
    "1-T1$p.value"
   ]
  },
  {
   "cell_type": "markdown",
   "metadata": {},
   "source": [
    "### $H_A: \\mu_{ph} \\neq \\mu_{nt}$"
   ]
  },
  {
   "cell_type": "code",
   "execution_count": null,
   "metadata": {},
   "outputs": [],
   "source": [
    "t.test(Example_1$Cholesterol~Example_1$Group, alternative=\"two.sided\", var.equal=T)\n",
    "2*T1$p.value\n",
    "#Note: Since this is a two-sided test, the 95% confidence interval is bounded by two sides--(10.77, 32.26)"
   ]
  },
  {
   "cell_type": "markdown",
   "metadata": {},
   "source": [
    "### Categorical Outcome Data\n",
    "\n",
    "Problem: Is there an association between morbidity index and treatment in the population?\n",
    "\n",
    "Data: NIH Sponsored Women's Health Initiative Study Trial in which postmenopausal women were randomly assigned either estrogen (treatment) or a placebo (control). Estrogen-exposed group comprised of 8506 subjects. Placebo comprised of 8102 subjects. Incidents of a combined index outcome (coronary disease, stroke, pulmonary embolism, breast cancer, etc.) were tallied.\n",
    "After 5 years, the estrogen-exposed group had 751 incidents and the control group had 623 incidents.\n",
    "\n",
    "\n",
    "\n"
   ]
  },
  {
   "cell_type": "code",
   "execution_count": null,
   "metadata": {},
   "outputs": [],
   "source": [
    "##create 2x2 table\n",
    "Example_2<-as.table(matrix(c(751,623,7755,7479), nrow=2, ncol=2, dimnames=list(c(\"Group1:exposed\", \"Group2:unexposed \"), c(\"Disease\", \"No disease\" ))))\n",
    "###tables can also be created from individual data using the function table()\n",
    "Example_2\n",
    "\n",
    "##H0: no association between morbidity index and treatment in the population; p1-p2=0\n",
    "##Ha: association between morbidity index and treatment the population p1-p2=0\n",
    "\n",
    "#incidence of combined morbidity index\n",
    "n1=Example_2[1,2]+Example_2[1,1]\n",
    "n2=Example_2[2,1]+Example_2[2,2]\n",
    "incidence_exposed=Example_2[1,1]/n1  ####p1\n",
    "incidence_unexposed=Example_2[2,1]/n2  ####p2\n"
   ]
  },
  {
   "cell_type": "code",
   "execution_count": null,
   "metadata": {},
   "outputs": [],
   "source": [
    "###Chi-square test\n",
    "Test_2=chisq.test(Example_2, correct=F)\n",
    "Test_2\n",
    "#often times, we use something called continuity correction when we are using a continuous function (like the Chi-square) to approximate a discrete function (like binomial)\n",
    "# to enable continuity correction, change Test=chisq.test(Ex1, correct=T)"
   ]
  },
  {
   "cell_type": "code",
   "execution_count": null,
   "metadata": {},
   "outputs": [],
   "source": [
    "####check assumptions, expected count at least 80% of cells >5: \n",
    "Test_2$expected\n",
    "#all cells are greater than 5\n",
    "\n",
    "#df=(r-1)*(c-1)=(2-1)*(2-1)=1\n",
    "#Test statistic=7.101\n",
    "#p-value is P(X^2>7.101)=.008\n",
    "#this p-value can also be found this way: 1-pchisq(7.1014,1)\n"
   ]
  },
  {
   "cell_type": "markdown",
   "metadata": {},
   "source": [
    "This is a small p-value, so we reject H0 and say there is an association \n",
    "between morbidity index and treatment the population\n",
    "\n"
   ]
  },
  {
   "cell_type": "markdown",
   "metadata": {},
   "source": [
    "Example Kayexelate and colonic necrosis: one-sided test (Basic Biostatistics: Statistics for Public Health Practice 17.3)\n",
    "\n",
    "\n",
    "\n",
    "### Example: Small Counts\n",
    "\n",
    "Problem: Sodium polystyrene in sorbitol is suspected of causing an adverse reaction leading to colonic necrosis.  Is there an association between drug and colonic necrosisin the population?\n",
    "\n",
    "Data: A study compared the incidence of colonic necrosis in 117 Kayexelate-exposed and 862\n",
    "#nonexposed postsurgical patients.  Two cases occurred in the kayexelate-exposed group (Group 1); No cases occurred in the nonexposed group\n"
   ]
  },
  {
   "cell_type": "code",
   "execution_count": null,
   "metadata": {},
   "outputs": [],
   "source": [
    "##create 2x2 table\n",
    "Example_3<-as.table(matrix(c(2,0,115,862), nrow=2, ncol=2, dimnames=list(c(\"Group1:exposed\", \"Group2:unexposed \"), c(\"Disease\", \"No disease\" ))))\n",
    "Example_3"
   ]
  },
  {
   "cell_type": "code",
   "execution_count": null,
   "metadata": {
    "collapsed": true
   },
   "outputs": [],
   "source": [
    "###incidence estimates\n",
    "n1=Example_3[1,2]+Example_3[1,1]\n",
    "n2=Example_3[2,1]+Example_3[2,2]\n",
    "incidence_exposed=Example_3[1,1]/n1  ####p1\n",
    "incidence_unexposed=Example_3[2,1]/n2  ####p2\n",
    "\n",
    "##H0: no association between drug and colonic necrosis in the population; p1-p2=0\n",
    "##Ha: association between drug and colonic necrosisin the population p1-p2 >0\n"
   ]
  },
  {
   "cell_type": "code",
   "execution_count": null,
   "metadata": {},
   "outputs": [],
   "source": [
    "####check assumptions, expected count at least 80% of cells >5: \n",
    "Test_3=chisq.test(Example_3)\n",
    "Test_3$expected\n"
   ]
  },
  {
   "cell_type": "code",
   "execution_count": null,
   "metadata": {},
   "outputs": [],
   "source": [
    "###two cells <5...use fisher exact\n",
    "Test_3=fisher.test(Example_3, alternative=\"greater\")\n",
    "Test_3"
   ]
  },
  {
   "cell_type": "markdown",
   "metadata": {},
   "source": [
    "p-value=.014, which is small, so we reject H0 and say that there is an association \n",
    "between drug and colonic necrosisin the population.\n",
    "\n",
    "There is a difference in the proportions of colonic necrosis between those exposed \n",
    "to the drug and those not the evidence is strong that those exposed to the drug versus \n",
    "those that are not are not equally likely to have colonic neccrosisin."
   ]
  },
  {
   "cell_type": "markdown",
   "metadata": {},
   "source": [
    "### Example: Paired Data\n",
    "\n",
    "Example Smoking and Mortality in Matched Data (Basic Biostatistics: Statistics for Public Health Practice 18.6)\n",
    "\n",
    "Problem: Smoking was first suspected as causing premature mortality.  The hypothesis is that people who are genetically disposed to risk taking and adverse health outcomes were more likely to smole, and hence more like to experience premature death. \n",
    "\n",
    "Data: 22 smoking-discordant monozygotic twins were studies to see which twin first succumber to death.  The smoking-twin died first in 17 pairs and non-smoking died first in 5 instances\n"
   ]
  },
  {
   "cell_type": "code",
   "execution_count": null,
   "metadata": {
    "collapsed": true
   },
   "outputs": [],
   "source": [
    "###create 2x2 table\n",
    "Example_4<-as.table(matrix(c(0,5,17,0), nrow=2, ncol=2, dimnames=list(c(\"Yes Died Smoking Twin\", \"No Died Smoking Twin \"), c(\"Yes Died Non-Smoking Twin\", \"No Died Non-Smoking Twin\" ))))\n",
    "###tables can also be created from individual data using the function table()\n",
    "###Normal Approximation Method: McNemar \n",
    "##H0: no association between smoking and earlier mortality in the population; marginal probabilities for each outcome are the same p_a+p_b=p_c+p_d\n",
    "##Ha: association between smoking and earlier mortality in the population\n"
   ]
  },
  {
   "cell_type": "code",
   "execution_count": null,
   "metadata": {},
   "outputs": [],
   "source": [
    "#Check assumption b+c>20: 5+17>20 \n",
    "##without continuity correction\n",
    "mcnemar.test(Example_4, correct=F)\n",
    "#with continuity correction\n",
    "mcnemar.test(Example_4, correct=T)"
   ]
  },
  {
   "cell_type": "code",
   "execution_count": null,
   "metadata": {},
   "outputs": [],
   "source": [
    "#Test statistic: X^2=5.5\n",
    "#df=1\n",
    "#p-value=.01902\n",
    "#same as\n",
    "1-pchisq(5.5,1)\n",
    "#1-P(X^2<5.5)=P(X^2>5.5)"
   ]
  },
  {
   "cell_type": "markdown",
   "metadata": {},
   "source": [
    "So, we reject H0 and say that there is an association between smoking and earlier mortality \n",
    "in the population.  The proportions of Dead Smoking twin and Dead non-smoking twin are different. \n",
    "\n",
    "### Using Binomial Exact Method"
   ]
  },
  {
   "cell_type": "code",
   "execution_count": null,
   "metadata": {},
   "outputs": [],
   "source": [
    "##H0: no association between smoking and earlier mortality in the population; marginal probabilities for each outcome are the same p_a+p_b=p_c+p_d\n",
    "##Ha: association between smoking and earlier mortality in the population\n",
    "\n",
    "#number of discordant pairs n=17+5 Bernouilli Trials\n",
    "n=Example_4[1,2]+Example_4[2,1]\n",
    "\n",
    "###proportion of positive discordancies\n",
    "p=Example_4[1,2]/n\n",
    "\n",
    "###number of successes\n",
    "x=Example_4[1,2]"
   ]
  },
  {
   "cell_type": "code",
   "execution_count": null,
   "metadata": {},
   "outputs": [],
   "source": [
    "###binomial test\n",
    "binom.test(x,n, alternative=c(\"two.sided\"))"
   ]
  },
  {
   "cell_type": "markdown",
   "metadata": {},
   "source": [
    "Based on our sample data, we are 95% confident that the true difference of proportions is between .5463 and .9218.\n",
    "p-value=.0169 which is slightly smaller than our chi-square approximation."
   ]
  },
  {
   "cell_type": "code",
   "execution_count": null,
   "metadata": {
    "collapsed": true
   },
   "outputs": [],
   "source": []
  }
 ],
 "metadata": {
  "kernelspec": {
   "display_name": "R",
   "language": "R",
   "name": "ir"
  },
  "language_info": {
   "codemirror_mode": "r",
   "file_extension": ".r",
   "mimetype": "text/x-r-source",
   "name": "R",
   "pygments_lexer": "r",
   "version": "3.3.2"
  }
 },
 "nbformat": 4,
 "nbformat_minor": 2
}
