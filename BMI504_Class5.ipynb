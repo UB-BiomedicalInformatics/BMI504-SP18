{
 "cells": [
  {
   "cell_type": "markdown",
   "metadata": {},
   "source": [
    "# R for Descriptive and Elementary Data Analysis and Probability Functions\n"
   ]
  },
  {
   "cell_type": "code",
   "execution_count": null,
   "metadata": {},
   "outputs": [],
   "source": [
    "#install.packages(\"gtools\")\n",
    "library(gtools)\n",
    "install.packages(\"moments\")\n",
    "library(moments)"
   ]
  },
  {
   "cell_type": "markdown",
   "metadata": {},
   "source": [
    "## Random Variables (R.V.)\n",
    "* A random variable, usually written X, is a variable whose possible values are numerical outcomes of a random phenomenon.\n",
    "* A random variable is always denoted with an upper case\n",
    "* An observed variable is denoted with a lower case\n",
    "### There are two types of random variables:\n",
    "\n",
    "* **Discrete random variable**: Takes on a finite (or countably infinite) number of values.\n",
    "* **Continuous random variable**: Takes on an interval of values (uncountably infinite values)\n",
    "\n",
    "\n"
   ]
  },
  {
   "cell_type": "markdown",
   "metadata": {},
   "source": [
    "## Discrete\n",
    "### Distribution of Discrete RV\n",
    "* The distribution of a discrete random variable is described by a collection of possible distinct outcomes and their associated probabilities. \n",
    "### Probability Mass Function (PMF)\n",
    "\n",
    "Denoted by $f_x(x)=P(X=x) $ for all values of x\n",
    "\n",
    "A function $f_x$ can only be a PMF if it satisfies:\n",
    "1. $f_x \\geq 0$ for all x\n",
    "2. $\\sum_x f_x(x)=\\sum_x P(X=x)=1$\n",
    "\n",
    "Remember probabilities can only be between 0 and 1!\n",
    "\n",
    "### Cumulative Distribution Function (CDF)\n",
    "\n",
    "The cumulative distribution function $F_x(x)$ gives the probability that the variable takes a value less than or equal to x and is defined for all real x . It must satisfy $0\\leq F_x(x) \\leq 1$ for all x.\n",
    "$$ F_x(x)=P(X \\leq x)=\\sum_{x_j \\leq x} f(x_j) $$\n"
   ]
  },
  {
   "cell_type": "markdown",
   "metadata": {},
   "source": [
    "## Example 1: Binomial Distribution\n",
    "\n",
    "A binomial random variable counts how often a particular event occurs in a fixed number of tries or trials. For a variable to be a binomial random variable, ALL of the following conditions must be met:\n",
    "\n",
    "* There are a fixed number of trials (a fixed sample size).\n",
    "* On each trial, the event of interest either occurs (success) or does not (failure).\n",
    "* The probability of occurrence (or not) is the same on each trial.\n",
    "* Trials are independent of one another.\n",
    "\n",
    "Example: Number of left-handers in a randomly selected sample of 50 unrelated people\n",
    "\n",
    "You need:\n",
    "* n=number of trials (sample size)\n",
    "* p= probability event occurs on any one trial\n",
    "\n",
    "$$P(X=x)={{n}\\choose{x}} p^x (1-p)^{n-x}$$\n",
    "for $x=0, 1, 2,..., n$ where $ {{n}\\choose{x}}=\\frac{n!}{x!(n-x)!}$"
   ]
  },
  {
   "cell_type": "code",
   "execution_count": null,
   "metadata": {
    "scrolled": true
   },
   "outputs": [],
   "source": [
    "#Generate N=15 independent binomial random variables with n=5 trials and probability p=.6\n",
    "rbinom(15, 5,.6 ) ## this means that out of 5 trials we either get a success or we do not"
   ]
  },
  {
   "cell_type": "code",
   "execution_count": null,
   "metadata": {
    "scrolled": false
   },
   "outputs": [],
   "source": [
    "# Probability distribution\n",
    "#Generate a sample of N=10,000 with n=7 trials and a probability of success p=.3\n",
    "X=rbinom(10000,7, .3)\n",
    "\n",
    "#X\n",
    "# Barplot of the probability distribution ##Why barplot and not a histogram??\n",
    "#If I sample 10,000 numbers from Bin(n=7, p=.3), what does the distribution look like?\n",
    "barplot(table(X))\n"
   ]
  },
  {
   "cell_type": "code",
   "execution_count": null,
   "metadata": {},
   "outputs": [],
   "source": [
    "##distribution: this gives you the probability of x=0,1,2,3,4,5,6,7\n",
    "dbinom(0:7, 7, .3)\n",
    "#note: these outputs are between 0 and 1 and are probabilities! ie) a single point/outcome has probability"
   ]
  },
  {
   "cell_type": "code",
   "execution_count": null,
   "metadata": {},
   "outputs": [],
   "source": [
    "#check our assumption that the probabilities sum to 1!\n",
    "sum(dbinom(0:7, 7, .3))\n"
   ]
  },
  {
   "cell_type": "code",
   "execution_count": null,
   "metadata": {},
   "outputs": [],
   "source": [
    "#Example: What is the probability of exactly 2 successes (P(X=2)) for a binomial distribution Bin(n=7, p=.3)? \n",
    "dbinom(2,7,.3) #calculate using R\n",
    "choose(7,2)*(.3^2)*(.7^5) #calculate by hand"
   ]
  },
  {
   "cell_type": "code",
   "execution_count": null,
   "metadata": {},
   "outputs": [],
   "source": [
    "#Distribution using the formula, plotting the P(X=x)\n",
    "barplot(dbinom(0:7, 7, .3))"
   ]
  },
  {
   "cell_type": "markdown",
   "metadata": {},
   "source": [
    "#### Population Mean of Binomial Distribution: $E(x)=n*p$\n",
    "#### Population Variance of Binomial Distribution: $Var(x)=n*p(1-p)$\n",
    "#### Population Standard deviation of Binomial Distribution: $sd(x)=\\sqrt{ n*p(1-p)}$"
   ]
  },
  {
   "cell_type": "code",
   "execution_count": null,
   "metadata": {},
   "outputs": [],
   "source": [
    "#sample mean\n",
    "mean(X) \n",
    "7*.3\n",
    "#sample variance\n",
    "var(X)\n",
    "7*.3*(1-.3)\n",
    "#sample standard deviation\n",
    "sd(X)\n",
    "sqrt(7*.3*(1-.3))"
   ]
  },
  {
   "cell_type": "markdown",
   "metadata": {},
   "source": [
    "#### With a large sample our expected mean and variance for the population are close to our sample mean and variance!\n",
    "\n",
    "#### What happens when we have a smaller sample?\n"
   ]
  },
  {
   "cell_type": "code",
   "execution_count": null,
   "metadata": {},
   "outputs": [],
   "source": [
    "#Sample of 10\n",
    "X_10=rbinom(10,7, .3)\n",
    "#sample mean\n",
    "mean(X_10)\n",
    "7*.3\n",
    "#sample variance\n",
    "var(X_10)\n",
    "7*.3*(1-.3)\n",
    "#sample standard deviation\n",
    "sd(X_10)\n",
    "sqrt(7*.3*(1-.3))"
   ]
  },
  {
   "cell_type": "code",
   "execution_count": null,
   "metadata": {},
   "outputs": [],
   "source": [
    "#Sample of 100\n",
    "X_100=rbinom(10,7, .3)\n",
    "#sample mean\n",
    "mean(X_100)\n",
    "7*.3\n",
    "#sample variance\n",
    "var(X_100)\n",
    "7*.3*(1-.3)\n",
    "#sample standard deviation\n",
    "sd(X_100)\n",
    "sqrt(7*.3*(1-.3))"
   ]
  },
  {
   "cell_type": "markdown",
   "metadata": {
    "collapsed": true
   },
   "source": [
    "## Continuous \n",
    "### Distribution of Continuous RV\n",
    "* The distribution of a continuous random variable is described by its probability density function (PDF). You can find the probability between two constants by adding up the area under the density curve. \n",
    "\n",
    "* Note: Unlike discrete random variables where we can determine $P(X=x)$ for all possible values of x and get a probability for a point, the probability that X takes on any particular value x is 0 for continuous random variables. AKA. We can't find $P(X=x)$!\n",
    "\n",
    "* Instead, we find the probability that $X$ falls into some interval $(a,b)$ ie. $P(a<X<b)$.  We can use the PDF to do this!\n",
    "\n",
    "### Probability Density Function (PDF) and Cumulative Distribution Function (CDF)\n",
    "* PDF is denoted by $f_X(x)$\n",
    "* CDF is denoted by $F_X(x)$\n",
    "\n",
    "$F_X(x)=\\int_{-\\infty}^{x} f(u)\\ du$ for all x\n",
    "$f_X(x)=\\frac{d}{dx} F_X(x)$\n",
    "\n",
    "* We can find the probability $P(a<X<b)=\\int_{a}^{b} f_x(X)\\ dx$\n",
    "\n",
    "A function $f_x$ can only be a PDF if it satisfies:\n",
    "1. $f_X(x) \\geq 0$ for all x\n",
    "2. $\\int_{-\\infty}^{\\infty} f_x(x)=1$\n",
    "\n",
    "Outputs of $f_X(x)$ are NOT probabilities!\n",
    "\n",
    "### Describing A Distribution:\n",
    "* E(x)=Expected Value ($\\mu$)= mean of a random variable X (FIRST CENTRAL MOMENT)\n",
    "* Var(x)= Variance ($\\sigma^2$)= variance of random variable x (SECOND CENTRAL MOMENT)\n",
    "* Skewness=measure of lack of symmetry (THIRD CENTRAL MOMENT)\n",
    "* Kirtosis=measure of whether data are heavy-tailed or light-tailed relative to the normal distribution  (FOURTH CENTRAL MOMENT)\n",
    "* Median=midpoint\n"
   ]
  },
  {
   "cell_type": "markdown",
   "metadata": {},
   "source": [
    "## Example 2: Normal Distribution\n",
    "\n",
    "$$f_X(x)=\\frac{1}{{\\sigma \\sqrt{2\\pi } }}  e^{\\frac{ - ( x - \\mu )^2} {2\\sigma^2}} $$\n",
    "\n",
    "where $-\\infty<x<\\infty$.\n",
    "\n",
    "Mean=$\\mu$ and $\\mu\\in\\mathbb{R}$ \n",
    "\n",
    "Variance=$\\sigma^2$ and $\\sigma^2>0$ \n",
    "\n",
    "* Standard normal distribution has $\\mu=0$ and $\\sigma=1$"
   ]
  },
  {
   "cell_type": "code",
   "execution_count": null,
   "metadata": {},
   "outputs": [],
   "source": [
    "#Generate N=15 independent normal random variables with mean=20 and sd=8 \n",
    "N_15=rnorm(15, mean=20,sd=8 ) \n",
    "N_15"
   ]
  },
  {
   "cell_type": "code",
   "execution_count": null,
   "metadata": {},
   "outputs": [],
   "source": [
    "#What is the mean of our sample?\n",
    "mean(N_15) #Is this close to E(x)=20?\n"
   ]
  },
  {
   "cell_type": "code",
   "execution_count": null,
   "metadata": {},
   "outputs": [],
   "source": [
    "#What is the variance of our sample?\n",
    "var(N_15) \n",
    "sd(N_15) "
   ]
  },
  {
   "cell_type": "code",
   "execution_count": null,
   "metadata": {},
   "outputs": [],
   "source": [
    "#What is the skewness and kurtosis of our sample?\n",
    "skewness(N_15) #skewness of normal distribution is 0!\n",
    "#negative indicates skewed left, positive indicates skewed right\n",
    "kurtosis(N_15) #kurtosis of normal distribution should be near 3"
   ]
  },
  {
   "cell_type": "code",
   "execution_count": null,
   "metadata": {},
   "outputs": [],
   "source": [
    "#plot a histogram of the distribution of our sample\n",
    "h<-hist(N_15, breaks=5, col=\"blue\", xlab=\"Simulation\", \n",
    "  \tmain=\"Histogram with Normal Curve\") \n",
    "xfit<-seq(min(N_15),max(N_15),length=15) \n",
    "yfit<-dnorm(xfit,mean=20,sd=8) \n",
    "yfit <- yfit*diff(h$mids[1:2])*length(N_15) \n",
    "lines(xfit, yfit, col=\"green\", lwd=2) #normal curve\n",
    "\n"
   ]
  },
  {
   "cell_type": "code",
   "execution_count": null,
   "metadata": {
    "collapsed": true
   },
   "outputs": [],
   "source": [
    "#Now generate N=10000 independent normal random variables with mean=20 and sd=8\n",
    "N_big=rnorm(10000, mean=20, sd=8)\n"
   ]
  },
  {
   "cell_type": "code",
   "execution_count": null,
   "metadata": {},
   "outputs": [],
   "source": [
    "#What is the mean of our sample?\n",
    "mean(N_big) #Is this close to E(x)=20?\n",
    "\n",
    "### THis is called the law of large numbers!  \n",
    "#The average of the results obtained from a large number of \n",
    "#trials should be close to the expected value"
   ]
  },
  {
   "cell_type": "code",
   "execution_count": null,
   "metadata": {},
   "outputs": [],
   "source": [
    "#What is the variance of our sample?\n",
    "var(N_big)\n",
    "sd(N_big) "
   ]
  },
  {
   "cell_type": "code",
   "execution_count": null,
   "metadata": {},
   "outputs": [],
   "source": [
    "#What is the skewness and kurtosis of our sample?\n",
    "skewness(N_big) #skewness of normal distribution is 0!\n",
    "#negative indicates skewed left, positive indicates skewed right\n",
    "kurtosis(N_big) #kurtosis of normal distribution is near 3"
   ]
  },
  {
   "cell_type": "code",
   "execution_count": null,
   "metadata": {},
   "outputs": [],
   "source": [
    "#plot a histogram of the distribution of our sample\n",
    "h_big<-hist(N_big, breaks=50, col=\"blue\", xlab=\"Simulation\", \n",
    "  \tmain=\"Histogram with Normal Curve\") \n",
    "#xfit<-seq(min(N_big),max(N_big),length=10000) \n",
    "#yfit<-dnorm(xfit,mean=20,sd=8) \n",
    "#yfit <- yfit*diff(h$mids[1:2])*length(N_big) \n",
    "#lines(xfit, yfit, col=\"green\", lwd=2) #normal curve"
   ]
  },
  {
   "cell_type": "markdown",
   "metadata": {},
   "source": [
    "### The Law of Large Numbers\n",
    "1. The average of many independent samples is (with high probability) close to the mean of the underlying distribution. \n",
    "    * We saw this!! The average of the samples was close to E(x)!\n",
    "2. This density histogram of many independent samples is (with high probability) close to the graph of the density of the underlying distribution.\n",
    "    * We also saw this!! The histogram and the blue line match up!"
   ]
  },
  {
   "cell_type": "code",
   "execution_count": null,
   "metadata": {},
   "outputs": [],
   "source": [
    "#### Having fun with ggplot2\n",
    "install.packages(\"ggplot2\")\n",
    "library(ggplot2)\n"
   ]
  },
  {
   "cell_type": "markdown",
   "metadata": {},
   "source": [
    "### About the Dataset Infection Risk\n",
    "* InfctRsk = infection risk in hospital\n",
    "* Stay = average length of patient’s stay (in days)\n",
    "* Region = indication in which of 4 U.S. regions the hospital is located (north-east, north- central, south, west)\n",
    "\n",
    "\n"
   ]
  },
  {
   "cell_type": "code",
   "execution_count": null,
   "metadata": {},
   "outputs": [],
   "source": [
    "###set your working directory##\n",
    "#setwd(\"/Users/sarahmullin/Desktop/BMI 504/\")\n",
    "###make sure datafiles are in the folder that you set your working directory to.\n",
    "######hospital infection risk data\n",
    "risk=read.table(\"infectionrisk.txt\", sep=\"\",header=T)\n",
    "risk[1:10,]\n",
    "risk$MedSchool_factor=as.factor(risk$MedSchool)\n",
    "risk$Region_factor=as.factor(risk$Region)"
   ]
  },
  {
   "cell_type": "code",
   "execution_count": null,
   "metadata": {},
   "outputs": [],
   "source": [
    "####some fun plots Stay and Risk scatterplot by Med School\n",
    "ggplot(subset(risk, MedSchool_factor %in% c(\"1\", \"2\")),\n",
    "       aes(x=Stay,\n",
    "           y=InfctRsk,\n",
    "           color=MedSchool_factor))+\n",
    "  geom_point()"
   ]
  },
  {
   "cell_type": "code",
   "execution_count": null,
   "metadata": {},
   "outputs": [],
   "source": [
    "####some fun plots\n",
    "ggplot(subset(risk, MedSchool_factor %in% c(\"1\", \"2\")),\n",
    "       aes(x=Stay,\n",
    "           y=InfctRsk,\n",
    "           color=MedSchool_factor))+\n",
    "  geom_point()+geom_line()"
   ]
  },
  {
   "cell_type": "code",
   "execution_count": null,
   "metadata": {},
   "outputs": [],
   "source": [
    "####some fun plots\n",
    "ggplot(subset(risk, Region_factor %in% c(\"1\", \"2\", \"3\",\"4\")),\n",
    "       aes(x=Stay,\n",
    "           y=InfctRsk,\n",
    "           color=Region_factor))+\n",
    "  geom_point()+geom_line()"
   ]
  },
  {
   "cell_type": "code",
   "execution_count": null,
   "metadata": {},
   "outputs": [],
   "source": [
    "#### Make a boxplot Infectious Risk\n",
    "min(risk$InfctRsk)\n",
    "median(risk$InfctRsk)\n",
    "IQR(risk$InfctRsk)\n",
    "max(risk$InfctRsk)"
   ]
  },
  {
   "cell_type": "code",
   "execution_count": null,
   "metadata": {},
   "outputs": [],
   "source": [
    "qplot(y=risk$InfctRsk, x= 1, geom = \"boxplot\")"
   ]
  },
  {
   "cell_type": "code",
   "execution_count": null,
   "metadata": {},
   "outputs": [],
   "source": [
    "###plot boxplot for Infectious Risk by Region\n",
    "p10 <- ggplot(risk, aes(x = Region_factor, y = InfctRsk)) +\n",
    "        geom_boxplot()\n",
    "p10"
   ]
  },
  {
   "cell_type": "markdown",
   "metadata": {},
   "source": [
    "[ggplot2 tutorial](http://tutorials.iq.harvard.edu/R/Rgraphics/Rgraphics.html)"
   ]
  }
 ],
 "metadata": {
  "kernelspec": {
   "display_name": "R",
   "language": "R",
   "name": "ir"
  },
  "language_info": {
   "codemirror_mode": "r",
   "file_extension": ".r",
   "mimetype": "text/x-r-source",
   "name": "R",
   "pygments_lexer": "r",
   "version": "3.3.2"
  }
 },
 "nbformat": 4,
 "nbformat_minor": 2
}
